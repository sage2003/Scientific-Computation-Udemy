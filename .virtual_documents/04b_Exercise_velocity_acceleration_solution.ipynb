


import numpy as np
import matplotlib.pyplot as plt





data = np.loadtxt("04b_Exercise_velocity_acceleration_data_file.dat")


data


plt.xlabel('Time t [s]')
plt.ylabel('Coordinate x [m]')
plt.scatter(data[:,0],data[:,1])











data[:,0]


def forward(data):
    derive = np.zeros(len(data[:,1]))
    # for equidistant data
    # h = (data[1,0]-data[0,0])
    # velocity[:-1] = (data[1:,1]-data[:-1,1]) / h
    # general
    derive[:-1] = (data[1:,1]-data[:-1,1]) / (data[1:,0]-data[:-1,0])
    # last value use backwards method (or just set to second-last value)
    derive[-1] = (data[-1,1]-data[-2,1]) / (data[-1,0]-data[-2,0])
    return np.transpose([data[:,0],derive])


velocityForward = forward(data)
accelerationForward = forward(forward(data))


def central(data):
    derive = np.zeros(len(data[:,1]))
    derive[1:-1] = (data[2:,1]-data[:-2,1]) / (data[2:,0]-data[:-2,0])
    # first value use forward method (or just set to second value)
    derive[0] = (data[1,1]-data[0,1]) / (data[1,0]-data[0,0])
    # last value use backward method (or just set to second-last value)
    derive[-1] = (data[-1,1]-data[-2,1]) / (data[-1,0]-data[-2,0])
    return np.transpose([data[:,0],derive])


velocityCentral = central(data)
accelerationCentral = central(central(data))


def Richardson(data):
    derive = np.zeros(len(data[:,1]))
    derive[2:-2] = (-data[4:,1]+8*data[3:-1,1]-8*data[1:-3,1]+data[:-4,1]) / (12*(data[3:-1,0]-data[2:-2,0]))
    # first values 
    derive[0] = (data[1,1]-data[0,1]) / (data[1,0]-data[0,0])
    derive[1] = (data[2,1]-data[0,1]) / (data[2,0]-data[0,0])
    # last values 
    derive[-2] = (data[-1,1]-data[-3,1]) / (data[-1,0]-data[-3,0])
    derive[-1] = (data[-1,1]-data[-2,1]) / (data[-1,0]-data[-2,0])
    return np.transpose([data[:,0],derive])


velocityRichardson = Richardson(data)
accelerationRichardson = Richardson(Richardson(data))


plt.xlabel('Time t [s]')
plt.ylabel('Velocity v [m/s]')
plt.scatter(velocityForward[:,0],velocityForward[:,1])
plt.scatter(velocityCentral[:,0],velocityCentral[:,1])
plt.scatter(velocityRichardson[:,0],velocityRichardson[:,1])
plt.show()

plt.xlabel('Time t [s]')
plt.ylabel('Acceleration a [m/s$^2$]')
plt.scatter(accelerationForward[:,0],accelerationForward[:,1])
plt.scatter(accelerationCentral[:,0],accelerationCentral[:,1])
plt.scatter(accelerationRichardson[:,0],accelerationRichardson[:,1])
plt.show()





plt.xlabel('Time t [s]')
plt.ylabel('Velocity v [m/s]')
plt.scatter(velocityForward[2:-2,0],velocityForward[2:-2,1])
plt.scatter(velocityCentral[2:-2,0],velocityCentral[2:-2,1])
plt.scatter(velocityRichardson[2:-2,0],velocityRichardson[2:-2,1])
plt.show()

plt.xlabel('Time t [s]')
plt.ylabel('Acceleration a [m/s$^2$]')
plt.scatter(accelerationForward[4:-4,0],accelerationForward[4:-4,1])
plt.scatter(accelerationCentral[4:-4,0],accelerationCentral[4:-4,1])
plt.scatter(accelerationRichardson[4:-4,0],accelerationRichardson[4:-4,1])
plt.show()








a = 0.2
b = 0.95e-8
c = -1e-6
d = 0.2

def position(t):
    return np.cos(a*t) + b*t**5 + c*t**4 + d*t

tList = np.linspace(0,100,1001)
xList = position(tList)

plt.xlabel('Time t [s]')
plt.ylabel('Coordinate x [m]')
plt.scatter(tList,xList)


data = np.transpose([tList,xList])


data


np.savetxt("04b_Exercise_velocity_acceleration_data_file.dat", data, fmt="%s")





def velocity(t):
    return -a*np.sin(a*t) + 5*b*t**4 +4*c*t**3 + d

def acceleration(t):
    return -a**2*np.cos(a*t) + 20*b*t**3 +12*c*t**2


tList = np.linspace(0,100,1001)
vList = velocity(tList)
aList = acceleration(tList)

plt.xlabel('Time t [s]')
plt.ylabel('Velocity v [m/s]')
plt.scatter(tList,vList)
plt.show()

plt.xlabel('Time t [s]')
plt.ylabel('Acceleration a [m/s$^2$]')
plt.scatter(tList,aList)
plt.show()





plt.xlabel('Time t [s]')
plt.ylabel('$\Delta v$ [m/s]')
plt.plot(tList[2:-2],velocityForward[2:-2,1]-vList[2:-2],'blue')
plt.plot(tList[2:-2],velocityCentral[2:-2,1]-vList[2:-2],'red')
plt.plot(tList[2:-2],velocityRichardson[2:-2,1]-vList[2:-2],'green')
plt.show()

plt.xlabel('Time t [s]')
plt.ylabel('$\Delta a$ [m/s$^2$]')
plt.plot(tList[4:-4],accelerationForward[4:-4,1]-aList[4:-4],'blue')
plt.plot(tList[4:-4],accelerationCentral[4:-4,1]-aList[4:-4],'red')
plt.plot(tList[4:-4],accelerationRichardson[4:-4,1]-aList[4:-4],'green')
plt.show()





print( sum((velocityForward[2:-2,1]-vList[2:-2])**2) )
print( sum((velocityCentral[2:-2,1]-vList[2:-2])**2) )
print( sum((velocityRichardson[2:-2,1]-vList[2:-2])**2) )





print( sum((accelerationForward[4:-4,1]-aList[4:-4])**2) )
print( sum((accelerationCentral[4:-4,1]-aList[4:-4])**2) )
print( sum((accelerationRichardson[4:-4,1]-aList[4:-4])**2) )





accelerationRichardson


accelerationMax = max( accelerationRichardson[:,1] )


indexAccelerationMax = np.argmax( accelerationRichardson[:,1] )


timeAccelerationMax = accelerationRichardson[indexAccelerationMax,0]


print(accelerationMax)
print(indexAccelerationMax)
print(timeAccelerationMax)



