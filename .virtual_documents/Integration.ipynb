





import numpy as np
import matplotlib.pyplot as plt





def func(x):
    return 0.5 + 0.1*x + 0.2*x**2 + 0.03*x**3


x_list = np.linspace(-3.5, 3.5, 71)
plt.plot(x_list, func(x_list))








( 1/2*(3) + 1/20*(3)**2 + 1/15*(3)**3 + 3/400*(3)**4 ) - ( 1/2*(-3) + 1/20*(-3)**2 + 1/15*(-3)**3 + 3/400*(-3)**4 )





x_points = np.linspace(-3,3,13)
data = np.array([x_points, func(x_points)])
data


plt.scatter(data[0], data[1])








def integralSum(data):
    return np.sum(data[1]) * (data[0,-1]-data[0,0])/(len(data[1])-1)


integralSum(data)








def integralTrap(data):
    a = 0
    for i in range(len(data[0]) - 1):
        a = a + (data[1, i+1] + data[1, i])/2 * (data[0, i+1] - data[0, i])
    return a


integralTrap(data)





def integralTrapEq(data):
    return (np.sum(data[1,1:-1]) + 0.5*(data[1,0]) + 0.5*data[1,-1]) * (data[0,-1]-data[0,0])/(len(data[1])-1)


integralTrapEq(data)














def integralSimpson(data):
    return (1/3*data[1,0] + 4/3*(np.sum(data[1,1:-1:2])) + 2/3*(np.sum(data[1,2:-1:2])) + 1/3*data[1,-1]) \
            * (data[0,-1]-data[0,0])/(len(data[1])-1)


integralSimpson(data)









