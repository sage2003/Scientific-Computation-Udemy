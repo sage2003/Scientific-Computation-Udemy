




















import numpy as np
from scipy import integrate
import matplotlib.pyplot as plt 


nmax = 20 #number of iterations

h = 0.1 #stepsize

y = 1 #initial value

#collect data
t_values = [0]
y_values = [y]


for i in range(1, nmax+1):
    f = -y
    y = y + f*h
    t_values.append(i*h)
    y_values.append(y)


t_values


y


np.exp(-nmax*h)


test_t = np.linspace(0, nmax*h, nmax)
test_y = 1*np.exp(-test_t)

plt.xlabel("t")
plt.ylabel("y")

plt.plot(test_t, test_y, 'red')

plt.scatter(t_values, y_values)





def eulerODE(f, t0, y0, nmax, h):
    # f: function
    # t0: starting time
    # y0: starting value
    # nmax: number of iterations
    # h: stepsize
    y = y0
    t = t0
    t_values = [0]
    y_values = [y]
    for i in range(1, nmax+1):
        y = y + f(t, y) * h
        t += h
        t_values.append(t)
        y_values.append(y)
    return np.array([t_values, y_values])


#define function
def f_ODE(t, y):
    return -y

#specify initial values
t0 = 0
y0 = 1
nmax = 200
h = 0.01

# Call euler method
solution = eulerODE(f_ODE, t0, y0, nmax, h)


test_t = np.linspace(0, nmax*h, nmax)
test_y = 1*np.exp(-test_t)

plt.xlabel("t")
plt.ylabel("y")

plt.plot(test_t, test_y, 'red')

plt.scatter(solution[0], solution[1])








#define function
def f_ODE(t, y):
    return -a*y*t

#specify initial values
a = 0.01
t0 = 0
y0 = 1
nmax = 500
h = 0.1

# Call euler method
solution = eulerODE(f_ODE, t0, y0, nmax, h)


test_t = np.linspace(0, nmax*h, nmax)
test_y = y0*np.exp(-test_t**2*a/2)

plt.xlabel("t")
plt.ylabel("y")

plt.plot(test_t, test_y, 'red', label="Analytical Solution")

plt.scatter(solution[0], solution[1], s=10, label="Numerical Solution")
plt.legend()











































































































# [https://docs.scipy.org/doc/scipy/reference/generated/scipy.integrate.solve_ivp.html#scipy.integrate.solve_ivp]
# methods:
# RK45
# RK23
# DOP853
# Radau
# BDF
# LSODA

















# [https://en.wikipedia.org/wiki/List_of_Runge%E2%80%93Kutta_methods#Classic_fourth-order_method]







# [https://en.wikipedia.org/wiki/List_of_Runge%E2%80%93Kutta_methods#Fehlberg]








