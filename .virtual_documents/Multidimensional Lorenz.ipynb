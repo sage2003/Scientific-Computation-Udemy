


import numpy as np
import matplotlib.pyplot as plt 
from scipy import integrate








def f_ODE(t, r, a, b, c):
    x, y, z = r
    x1 = a*(y-x)
    y1 = x*(b-z) - y
    z1 = x*y - c*z
    return ([x1, y1, z1])





a = 10.0
b = 50.0
c = 8.0/3

tStart = 0
tEnd = 50

x0 = 1.0
y0 = 0.0
z0 = 0.0

solution = integrate.solve_ivp(f_ODE, [tStart, tEnd], [x0, y0, z0], method = "RK45", t_eval=np.linspace(tStart, tEnd, 5001), args=(a, b, c))


plot_traj = plt.axes(projection="3d")
plot_traj.plot3D(solution.y[0], solution.y[1], solution.y[2], linewidth=0.5)


solution2 = integrate.solve_ivp(f_ODE, [tStart, tEnd], [1.1*x0, y0, z0], method = "RK45", t_eval=np.linspace(tStart, tEnd, 5001), args=(a, b, c))


plot_traj = plt.axes(projection="3d")
plot_traj.plot3D(solution.y[0], solution.y[1], solution.y[2], linewidth=0.5)
plot_traj.plot3D(solution2.y[0], solution2.y[1], solution2.y[2], linewidth=0.5)





solution.y[:, -1]


solution2.y[:, -1]


plt.plot(solution.t, solution.y[0])





a = 10.0
b = 20.0
c = 8.0/3

tStart = 0
tEnd = 50

x0 = 1.0
y0 = 0.0
z0 = 0.0

solution = integrate.solve_ivp(f_ODE, [tStart, tEnd], [x0, y0, z0], method = "RK45", t_eval=np.linspace(tStart, tEnd, 5001), args=(a, b, c))
solution2 = integrate.solve_ivp(f_ODE, [tStart, tEnd], [1.1*x0, 0.5+y0, 3.5+z0], method = "RK45", t_eval=np.linspace(tStart, tEnd, 5001), args=(a, b, c))


plot_traj = plt.axes(projection="3d")
plot_traj.plot3D(solution.y[0], solution.y[1], solution.y[2], linewidth=0.5, label="1, 0, 0")
plot_traj.plot3D(solution2.y[0], solution2.y[1], solution2.y[2], linewidth=0.5, label="1.1, 0.5, 3.5")
plt.legend()



