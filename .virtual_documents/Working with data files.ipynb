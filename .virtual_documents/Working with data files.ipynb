


storelist = [1, 2, 3, 4, 5, 6, 7, 8, 9, 10] # initialising a dummy list


import numpy as np #importing necessary libraries





np.savetxt('storelist1.dat', storelist, fmt="%s") #fmt means format, which we havve set here  to be string


np.savetxt('storelist2.dat', storelist) #storing without specifying format (open the files and see the diference)





file = open('storelist3.dat', 'w') # w means 'write'. it allows to write into the file

for i in storelist:
    file.write(str(i**2)) #only string data can be written into a file
    file.write("\n")

file.close()





with open('storelist4.dat', 'w') as file:
    for i in storelist:
        file.write(str(i**2))
        file.write("\n")

#there's no need to close the file while using the 'with' command as the file is open only as long as the 'with' block is running





loadlist = np.loadtxt('storelist1.dat')


loadlist



