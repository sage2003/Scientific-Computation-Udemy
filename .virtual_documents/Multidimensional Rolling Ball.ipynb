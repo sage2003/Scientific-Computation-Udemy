


import numpy as np
import matplotlib.pyplot as plt 
from scipy import integrate








x, y = np.meshgrid(np.linspace(-10,10,201),np.linspace(-10,10,201))
z = x**2 + y**2

plotproj = plt.axes(projection='3d')
plotproj.contour3D(x,y,z,200)





# Pendulum geometry
length = 2
c = 9.81/length

# Damping
b = 0.1

# Driving Force
d = -1.0
omega = 1.0

def f_ODE(t,theta):
    return theta[1], -b*theta[1] - c*np.sin(theta[0]) - d*np.sin(omega*t)

theta00 = 2.0
theta10 = 0.0

solution_RK45 = integrate.solve_ivp(f_ODE, [0,100], [theta00, theta10], method = 'RK45', t_eval = np.linspace(0,100,201))


plt.xlabel('t')
plt.ylabel('theta')

plt.plot(solution_RK45.t, solution_RK45.y[0], 'red')














m = 1
U0 = 1
xi = 0.1

def f_ODE(t, r):
    x, y = r[0:2]
    vx, vy = r[2:4]
    return ([vx, vy, -xi/m*vx - 2*U0/m*x, -xi/m*vy - 2*U0/m*y])





tStart = 0
tEnd = 100

x0 = 1
y0 = -1
vx0 = 0
vy0 = 0

solution = integrate.solve_ivp(f_ODE, [tStart,tEnd], [x0, y0, vx0, vy0], method = 'RK45', t_eval = np.linspace(tStart,tEnd,1001))


plt.xlabel('t')
plt.ylabel('Coordinates x and y')

plt.plot(solution.t, solution.y[0], 'red')
plt.plot(solution.t, solution.y[1], 'blue')


fig = plt.figure()
ax = fig.add_subplot(1,1,1)
ax.set_aspect(1)

plt.xlabel('x coordinate')
plt.ylabel('y coordinate')

plt.plot(solution.y[0], solution.y[1], 'red')

t_array = np.linspace(0, 2*np.pi, 100)
x_array = 3*np.cos(t_array)
y_array = 3*np.sin(t_array)
plt.plot(x_array, y_array)





tStart = 0
tEnd = 100

x0 = 1
y0 = -0.5
vx0 = 1.2
vy0 = 2.4

solution = integrate.solve_ivp(f_ODE, [tStart,tEnd], [x0, y0, vx0, vy0], method = 'RK45', t_eval = np.linspace(tStart,tEnd,1001))


plt.xlabel('t')
plt.ylabel('Coordinates x and y')

plt.plot(solution.t, solution.y[0], 'red')
plt.plot(solution.t, solution.y[1], 'blue')


fig = plt.figure()
ax = fig.add_subplot(1,1,1)
ax.set_aspect(1)

plt.xlabel('x coordinate')
plt.ylabel('y coordinate')

plt.plot(solution.y[0], solution.y[1], 'red')

t_array = np.linspace(0, 2*np.pi, 100)
x_array = 3*np.cos(t_array)
y_array = 3*np.sin(t_array)
plt.plot(x_array, y_array)





m = 1
U0 = 1
xi = 0.1

A0 = 4
tOsc = 50
phi = 45 / 180 * np.pi

def f_ODE(t, r):
    x, y = r[0:2]
    vx, vy = r[2:4]
    return ([vx, vy, -xi/m*vx - 2*U0/m*x + A0*np.sin(2*np.pi*t/tOsc)*np.cos(phi), -xi/m*vy - 2*U0/m*y + A0*np.sin(2*np.pi*t/tOsc)*np.sin(phi)])


tStart = 0
tEnd = 100

x0 = 1
y0 = -0.5
vx0 = 1.2
vy0 = 2.4

solution = integrate.solve_ivp(f_ODE, [tStart,tEnd], [x0, y0, vx0, vy0], method = 'RK45', t_eval = np.linspace(tStart,tEnd,1001))


plt.xlabel('t')
plt.ylabel('Coordinates x and y')

plt.plot(solution.t, solution.y[0], 'red')
plt.plot(solution.t, solution.y[1], 'blue')


fig = plt.figure()
ax = fig.add_subplot(1,1,1)
ax.set_aspect(1)

plt.xlabel('x coordinate')
plt.ylabel('y coordinate')

plt.plot(solution.y[0], solution.y[1], 'red')

t_array = np.linspace(0, 2*np.pi, 100)
x_array = 3*np.cos(t_array)
y_array = 3*np.sin(t_array)
plt.plot(x_array, y_array)



