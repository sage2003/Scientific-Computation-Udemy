








import numpy as np
import matplotlib.pyplot as plt





mu0 = 1

# straight wire
j0 = 1 # Ampere / meter^2
r0 = 0.001 # m
l0 = 1000 # m
def j(r): #as the current density is only along the wire and that too, constant!
    #if np.sqrt(r[0]**2 + r[1]**2) > r0:
    #    return np.array([0.0, 0.0, 0.0])
    #else:
        return np.array([0.0, 0.0, j0])


j(np.array([0,0,5]))


coordMax = 4.9
numpoints = 50
d = 2*coordMax/(numpoints-1) #stepsize

# coordinates: standard indexing is yxz (for np.meshgrid), fix by using "indexing='ij'"
coords = np.array(np.meshgrid(np.linspace(-coordMax, coordMax, numpoints),
                              np.linspace(-coordMax, coordMax, numpoints),
                              np.zeros(1),
                              indexing='ij'
                             ))


print(coords[:, numpoints//2-1, numpoints//2, 0])
print(coords[:, numpoints//2, numpoints//2, 0])


# vector potential

A = np.array(np.meshgrid(np.zeros(numpoints),
                         np.zeros(numpoints),
                         np.zeros(1),
                         indexing='ij'
                         ))


print(A[:, numpoints//2-1, numpoints//2, 0])
print(A[:, numpoints//2, numpoints//2, 0])


numint = 5001


for ix in np.arange(numpoints):
    for iy in np.arange(numpoints):
        # position r for which we are currently calculating A
        r = np.array([-coordMax+ix*d, -coordMax+iy*d])
        for zj in np.linspace(-l0, l0, numint):
            # we integrate over all r' (here, rj) in the wire
            rj = np.array([0.0, 0.0, zj])
            A[:,ix,iy,0] += j(r) / np.sqrt(  r[0]**2 + r[1]**2 + rj[2]**2 )


dz = (2*l0) / (numint-1)
#dx = (2*coordMax) / (numpoints-1)
#dy = (2*coordMax) / (numpoints-1)

#A = A * mu0 / (4*np.pi) * dx * dy * dz

df = np.pi * r0**2
A = A * mu0 / (4*np.pi) * df * dz


fig = plt.figure()
ax = fig.add_subplot(1,1,1)
ax.set_aspect(1)
plt.xlabel("x coordinate")
plt.ylabel("y coordinate")

plt.contourf(coords[0,:,:,0], coords[1,:,:,0], A[2,:,:,0])
cbar = plt.colorbar()
cbar.set_label("Vector potential Az")





plt.xlabel('x coordinate')
plt.ylabel("Az")

plt.scatter(coords[0,:,numpoints//2,0], A[2,:,numpoints//2,0])

xlist = np.linspace(-coordMax, coordMax, 10001)
plt.plot(xlist, 
        mu0/(2*np.pi) * j0 * df * np.log(2*l0/ np.sqrt(xlist**2 + coords[1,0,numpoints//2,0]**2)),
        'red'
        )





# create empty list for magnetic field

B = np.array(np.meshgrid(np.zeros(numpoints),
                         np.zeros(numpoints),
                         np.zeros(1),
                         indexing='ij'
                         ))


B[0,1:-1,1:-1,0] = (A[2,1:-1,2:,0] - A[2,1:-1,:-2,0]) / (2*d)
B[1,1:-1,1:-1,0] = - (A[2,2:,1:-1,0] - A[2,:-2,1:-1,0]) / (2*d)
B[2,1:-1,1:-1,0] = - (A[1,2:,1:-1,0] - A[1,:-2,1:-1,0]) / (2*d) - (A[0,1:-1,2:,0] - A[0,1:-1,:-2,0]) / (2*d)


fig = plt.figure()
ax = fig.add_subplot(1,1,1)
ax.set_aspect(1)
plt.xlabel("x coordinate")
plt.ylabel("y coordinate")

plt.contourf(coords[0,:,:,0], coords[1,:,:,0], B[0,:,:,0])
cbar = plt.colorbar()
cbar.set_label("Magnetic Field Bx")
plt.show()


fig = plt.figure()
ax = fig.add_subplot(1,1,1)
ax.set_aspect(1)
plt.xlabel("x coordinate")
plt.ylabel("y coordinate")

plt.contourf(coords[0,:,:,0], coords[1,:,:,0], B[1,:,:,0])
cbar = plt.colorbar()
cbar.set_label("Magnetic Field By")
plt.show()


fig = plt.figure()
ax = fig.add_subplot(1,1,1)
ax.set_aspect(1)
plt.xlabel("x coordinate")
plt.ylabel("y coordinate")

plt.contourf(coords[0,:,:,0], coords[1,:,:,0], B[2,:,:,0])
cbar = plt.colorbar()
cbar.set_label("Magnetic Field Bz")
plt.show()


fig = plt.figure()
ax = fig.add_subplot(1,1,1)
ax.set_aspect(1)
plt.xlabel("x coordinate")
plt.ylabel("y coordinate")

plt.contourf(coords[0,:,:,0], coords[1,:,:,0], np.sqrt(B[0,:,:,0]**2 + B[1,:,:,0]**2 + B[2,:,:,0]**2))
cbar = plt.colorbar()
cbar.set_label("Magnetic Field |B|")
plt.show()





plt.xlabel('x coordinate')
plt.ylabel("By")

plt.scatter(coords[0,:,numpoints//2,0], B[1,:,numpoints//2,0])

xlist = np.linspace(-coordMax, coordMax, 10001)
plt.plot(xlist, 
        mu0/(2*np.pi) * j0 * df / np.sqrt(xlist**2 + coords[1,0,numpoints//2,0]**2)**2 * xlist,
        'red'
        )





# change standard size of all figures in this notebook
plt.rcParams['figure.figsize'] = [40, 15]


arrowplot = plt.axes(projection="3d")
arrowplot.set_zlim([-1,1])

#background invisible
arrowplot.axis(False)

scale = 0.2e6
arrowplot.quiver(
                 coords[0], coords[1], coords[2],
                 B[0]*scale, B[1]*scale, B[2]*scale,
                )



