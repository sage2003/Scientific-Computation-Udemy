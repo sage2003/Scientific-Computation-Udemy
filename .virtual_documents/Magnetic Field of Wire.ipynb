








import numpy as np
import matplotlib.pyplot as plt





mu0 = 1

# straight wire
j0 = 1 # Ampere / meter^2
r0 = 0.001 # m
l0 = 1000 # m
def j(r): #as the current density is only along the wire and that too, constant!
    #if np.sqrt(r[0]**2 + r[1]**2) > r0:
    #    return np.array([0.0, 0.0, 0.0])
    #else:
        return np.array([0.0, 0.0, j0])


j(np.array([0,0,5]))





















