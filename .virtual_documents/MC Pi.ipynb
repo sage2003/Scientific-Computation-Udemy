


import numpy as np
import matplotlib.pyplot as plt 
import matplotlib.patches as patches


fig = plt.figure()
ax = fig.add_subplot(111, aspect='equal')

rectangle = patches.Rectangle((-1,-1),2,2, facecolor='red')
ax.add_patch(rectangle)

circle = patches.Circle((0,0),1, facecolor='none', edgecolor='blue')
ax.add_patch(circle)

plt.xlim([-1.1,1.1])
plt.ylim([-1.1,1.1])








points = 100000

rand = 2*np.random.rand(2*points)-1


randpoints = rand.reshape(points, 2)


normpoints = randpoints[:,0]**2 + randpoints[:,1]**2 #square of norm


pointsOut = randpoints[normpoints > 1]
pointsIn = randpoints[normpoints <= 1]


piapprox = 4*len(pointsIn)/points
piapprox


np.pi-piapprox


fig = plt.figure()
ax = fig.add_subplot(111, aspect='equal')

#rectangle = patches.Rectangle((-1,-1),2,2, facecolor='red')
#ax.add_patch(rectangle)

circle = patches.Circle((0,0),1, facecolor='none', edgecolor='blue')
ax.add_patch(circle)

plt.xlim([-1.1,1.1])
plt.ylim([-1.1,1.1])

plt.scatter(pointsIn[:,0], pointsIn[:,1], color='green', s=0.05)
plt.scatter(pointsOut[:,0], pointsOut[:,1], color='red', s=0.05)





i = 0
counter = 0

while(i<points):
    if np.linalg.norm(2*np.random.rand(2)-1) < 1:
        counter += 1
    i += 1


piapprox = 4*counter/points
piapprox


piapprox - np.pi








get_ipython().run_cell_magic("timeit", "", """
rand = 2*np.random.rand(2*points)-1
randpoints = rand.reshape(points, 2)
normpoints = randpoints[:,0]**2 + randpoints[:,1]**2 #square of norm
pointsOut = randpoints[normpoints > 1]
pointsIn = randpoints[normpoints <= 1]
piapprox = 4*len(pointsIn)/points""")





get_ipython().run_cell_magic("timeit", "", """
i = 0
counter = 0

while(i<points):
    if np.linalg.norm(2*np.random.rand(2)-1) < 1:
        counter += 1
    i += 1

piapprox = 4*counter/points""")
