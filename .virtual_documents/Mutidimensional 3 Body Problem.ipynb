


import numpy as np
import matplotlib.pyplot as plt 
from scipy import integrate





# Constants in SI units

# Gravitational constant
G = 6.67430*10**(-11) # m^3 / ( kg * s^2 )

# Masses
msun = 1.9884 * 10**30 # kg
mearth = 5.9723 * 10**24 # kg
mmoon = 7.349 * 10**22 # kg

# Distances (average)
rSunEarth = 1.4960 * 10**11 # m
rEarthMoon = 3.850 * 10**8 # m

# Velocities (average)
vEarth = 29780 # m/s (Trajectory around sun)
vMoon = 1022 # m/s (Trajectory around earth)








m1 = msun
m2 = mearth
m3 = mmoon

def f_ODE(t, r):
    r1 = r[0:3]
    r2 = r[3:6]
    r3 = r[6:9]
    #v1 = r[9:12]
    r12 = np.linalg.norm(r1-r2)
    r23 = np.linalg.norm(r2-r3)
    r31 = np.linalg.norm(r1-r3)
    eq_r = G * np.array([
        -( m2/r12**3 + m3/r31**3 ) * r1 + m2/r12**3 * r2 + m3/r31**3 * r3,
        m1/r12**3 * r1 - (m1/r12**3 + m3/r23**3) * r2 + m3/r23**3 * r3,
        m1/r31**3 * r1 + m2/r23**3 * r2 - (m1/r31**3 + m2/r23**3) * r3
    ])
    return np.concatenate([r[9:18], eq_r.flatten()])


#sun
r1start = np.array([0,0,0])
v1start = np.array([0,0,0])

#earth 
r2start = np.array([rSunEarth,0,0])
v2start = np.array([0,vEarth,0])

#moon
r3start = np.array([rSunEarth,rEarthMoon,0])
v3start = np.array([-vMoon,vEarth,0])

r0 = np.concatenate([r1start, r2start, r3start, v1start, v2start, v3start])


f_ODE(0, r0)





































































