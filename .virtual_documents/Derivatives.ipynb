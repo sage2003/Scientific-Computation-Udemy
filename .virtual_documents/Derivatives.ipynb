























import numpy as np
import matplotlib.pyplot as plt


def f(x):
    return np.sin(x) * x - 0.01 * x**3


x_list = np.linspace(-10, 10, 201)
y_list = f(x_list)

plt.xlabel("x")
plt.ylabel("f(x)")
plt.plot(x_list, y_list)


x_list = np.linspace(-10, 10, 201)
analytical_d_list = np.cos(x_list)*x_list + np.sin(x_list)*1 - 0.03*x_list**2

h = 0.1
forward_d_list = (f(x_list+h) - f(x_list))/h
backward_d_list = (f(x_list) - f(x_list-h))/h
central_d_list = (f(x_list+h) - f(x_list-h))/(2*h)

plt.xlabel("x")
plt.ylabel(r"f'(x)")
plt.plot(x_list, analytical_d_list, label="Analytical Derivative")
plt.plot(x_list, forward_d_list, label="Forward Difference Method")
plt.plot(x_list, backward_d_list, label="Backward Difference Method")
plt.plot(x_list, central_d_list, label="Central Difference Method")
plt.legend()


plt.xlabel("x")
plt.ylabel(r"Error of f'(x)")
plt.plot(x_list, analytical_d_list - forward_d_list, label="Error in Forward Difference Method")
plt.plot(x_list, analytical_d_list - backward_d_list, label="Error in Backward Difference Method")
plt.plot(x_list, analytical_d_list - central_d_list, label="Error in Central Difference Method")
plt.legend()





























def D1Richardson(f, x, h):
    #f: function
    #x: argument of f
    #h: step size
    return 1/(12*h) * (f(x-2*h) - 8*f(x-h) + 8*f(x+h) - f(x+2*h))


plt.xlabel("x")
plt.ylabel(r"Error of f'(x)")

richardson_d_list = D1Richardson(f, x_list, 0.1)

plt.plot(x_list, analytical_d_list - richardson_d_list, label="Error in Richardson Method")
#plt.plot(x_list, analytical_d_list - forward_d_list, label="Error in Forward Difference Method")
#plt.plot(x_list, analytical_d_list - backward_d_list, label="Error in Backward Difference Method")
plt.plot(x_list, analytical_d_list - central_d_list, label="Error in Central Difference Method")
plt.legend()








def D1nRichardson(nmax, f, x, h):
    #f: function
    #x: argument of f
    #h: step size
    #nmax: order of iteration for 1st derivative
    
    #d0 = np.array([D1Richardson(f, x, h*2**j) for j in range (0,n)])
    d0 = np.array([(1/(12*h*2**j) * (f(x-2*h*2**j) - 8*f(x-h*2**j) + 8*f(x+h*2**j) - f(x+2*h*2**j))) for j in range (0,nmax)])

    for n in range (1,nmax):
        print(d0)
        d = np.array([(2**(2*n) * d0[j] - d0[j+1]) / (2**(2*n) - 1) for j in range(0, len(d0)-1)])
        d0 = d
    return d   





D1nRichardson(5, f, 3, h)





print(D1Richardson(f, 3, h))
print(D1Richardson(f, 3, 2*h))
print(D1Richardson(f, 3, 4*h))
print(D1Richardson(f, 3, 8*h))
print(D1Richardson(f, 3, 16*h))





3*np.cos(3) + np.sin(3) - 0.03*3**2


3*np.cos(3) + np.sin(3) - 0.03*3**2 - D1nRichardson(5, f, 3, h)


3*np.cos(3) + np.sin(3) - 0.03*3**2 - D1Richardson(f, 3, h)






































def f(r):
    return np.exp(-r[0]**2-r[1]**4)

def g(r):
    return r / np.linalg.norm(r)


x3, y3 = np.meshgrid(np.linspace(-2,2,201),np.linspace(-2,2,201))
z3 = f( np.array([ x3, y3 ]) )

plotproj = plt.axes(projection='3d')
plotproj.contour3D(x3,y3,z3,100)


x3, y3, z3 = np.meshgrid(np.linspace(-2,2,11),np.linspace(-2,2,11),np.linspace(-2,2,11))
values = g( np.array([ x3, y3, z3 ]) )

arrowplot = plt.axes(projection='3d')
arrowplot.axis(False)

scale=7
arrowplot.quiver(
    x3, y3, z3,
    values[0]*scale,values[1]*scale,values[2]*scale
)




































