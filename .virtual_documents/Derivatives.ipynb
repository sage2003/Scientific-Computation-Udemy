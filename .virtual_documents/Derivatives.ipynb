























import numpy as np
import matplotlib.pyplot as plt


def f(x):
    return np.sin(x) * x - 0.01 * x**3


x_list = np.linspace(-10, 10, 201)
y_list = f(x_list)

plt.xlabel("x")
plt.ylabel("f(x)")
plt.plot(x_list, y_list)


x_list = np.linspace(-10, 10, 201)
analytical_d_list = np.cos(x_list)*x_list + np.sin(x_list)*1 - 0.03*x_list**2

h = 0.1
forward_d_list = (f(x_list+h) - f(x_list))/h
backward_d_list = (f(x_list) - f(x_list-h))/h
central_d_list = (f(x_list+h) - f(x_list-h))/(2*h)

plt.xlabel("x")
plt.ylabel(r"f'(x)")
plt.plot(x_list, analytical_d_list, label="Analytical Derivative")
plt.plot(x_list, forward_d_list, label="Forward Difference Method")
plt.plot(x_list, backward_d_list, label="Backward Difference Method")
plt.plot(x_list, central_d_list, label="Central Difference Method")
plt.legend()


plt.xlabel("x")
plt.ylabel(r"Error of f'(x)")
plt.plot(x_list, analytical_d_list - forward_d_list, label="Error in Forward Difference Method")
plt.plot(x_list, analytical_d_list - backward_d_list, label="Error in Backward Difference Method")
plt.plot(x_list, analytical_d_list - central_d_list, label="Error in Central Difference Method")
plt.legend()





























def D1Richardson(f, x, h):
    #f: function
    #x: argument of f
    #h: step size
    return 1/(12*h) * (f(x-2*h) - 8*f(x-h) + 8*f(x+h) - f(x+2*h))


plt.xlabel("x")
plt.ylabel(r"Error of f'(x)")

richardson_d_list = D1Richardson(f, x_list, 0.1)

plt.plot(x_list, analytical_d_list - richardson_d_list, label="Error in Richardson Method")
#plt.plot(x_list, analytical_d_list - forward_d_list, label="Error in Forward Difference Method")
#plt.plot(x_list, analytical_d_list - backward_d_list, label="Error in Backward Difference Method")
plt.plot(x_list, analytical_d_list - central_d_list, label="Error in Central Difference Method")
plt.legend()








def D1nRichardson(nmax, f, x, h):
    #f: function
    #x: argument of f
    #h: step size
    #nmax: order of iteration for 1st derivative
    
    #d0 = np.array([D1Richardson(f, x, h*2**j) for j in range (0,n)])
    d0 = np.array([(1/(12*h*2**j) * (f(x-2*h*2**j) - 8*f(x-h*2**j) + 8*f(x+h*2**j) - f(x+2*h*2**j))) for j in range (0,nmax)])

    for n in range (1,nmax):
        print(d0)
        d = np.array([(2**(2*n) * d0[j] - d0[j+1]) / (2**(2*n) - 1) for j in range(0, len(d0)-1)])
        d0 = d
    return d   





D1nRichardson(5, f, 3, h)





print(D1Richardson(f, 3, h))
print(D1Richardson(f, 3, 2*h))
print(D1Richardson(f, 3, 4*h))
print(D1Richardson(f, 3, 8*h))
print(D1Richardson(f, 3, 16*h))





3*np.cos(3) + np.sin(3) - 0.03*3**2


3*np.cos(3) + np.sin(3) - 0.03*3**2 - D1nRichardson(5, f, 3, h)


3*np.cos(3) + np.sin(3) - 0.03*3**2 - D1Richardson(f, 3, h)

















x_list = np.linspace(-10, 10, 201)
#analytical_d_list = np.cos(x_list)*x_list + np.sin(x_list)*1 - 0.03*x_list**2
analytical_d2_list = -np.sin(x_list)*x_list + 2*np.cos(x_list) - 6/100*x_list

h = 0.1
forward_d2_list = ( f(x_list+2*h) - 2*f(x_list+h) + f(x_list) ) / h**2
backward_d2_list = (f(x_list) - 2*f(x_list-h) + f(x_list-2*h))/h**2
central_d2_list = (f(x_list+h) - 2*f(x_list) + f(x_list-h))/h**2

plt.xlabel("x")
plt.ylabel(r"f''(x)")
plt.plot(x_list, analytical_d2_list, label="Analytical Derivative")
plt.plot(x_list, forward_d2_list, label="Double Forward Difference Method")
plt.plot(x_list, backward_d2_list, label="Double Backward Difference Method")
plt.plot(x_list, central_d2_list, label="Double Central Difference Method")
plt.legend()


plt.xlabel("x")
plt.ylabel(r"Error f''(x)")

plt.plot(x_list, analytical_d2_list-forward_d2_list, label="Double Forward Difference Method")
plt.plot(x_list, analytical_d2_list-backward_d2_list, label="Double Backward Difference Method")
plt.plot(x_list, analytical_d2_list-central_d2_list, label="Double Central Difference Method")
plt.legend()








def D2Richardson(f, x, h):
    #f: function
    #x: argument of f
    #h: step size
    return 1/(12*h**2) * (-f(x-2*h) + 16*f(x-h) - 30*f(x) + 16*f(x+h) - f(x+2*h))


plt.xlabel("x")
plt.ylabel(r"Error of f''(x)")

richardson_d2_list = D2Richardson(f, x_list, 0.1)

plt.plot(x_list, analytical_d2_list - richardson_d2_list, label="Error in Richardson Method")
#plt.plot(x_list, analytical_d2_list - forward_d2_list, label="Error in Double Forward Difference Method")
#plt.plot(x_list, analytical_d2_list - backward_d2_list, label="Error in Double Backward Difference Method")
plt.plot(x_list, analytical_d2_list - central_d2_list, label="Error in Double Central Difference Method")
plt.legend()











def f(r):
    return np.exp(-r[0]**2-r[1]**4)

def g(r):
    return r / np.linalg.norm(r)


x3, y3 = np.meshgrid(np.linspace(-2,2,201),np.linspace(-2,2,201))
z3 = f( np.array([ x3, y3 ]) )

plotproj = plt.axes(projection='3d')
plotproj.contour3D(x3,y3,z3,100)


x3, y3, z3 = np.meshgrid(np.linspace(-2,2,11),np.linspace(-2,2,11),np.linspace(-2,2,11))
values = g( np.array([ x3, y3, z3 ]) )

arrowplot = plt.axes(projection='3d')
arrowplot.axis(False)

scale=7
arrowplot.quiver(
    x3, y3, z3,
    values[0]*scale,values[1]*scale,values[2]*scale
)





def gradient(f,r,h):
    x,y,z = r
    partial_x = (f(np.array([x+h,y,z])) - f(np.array([x-h,y,z]))) / (2*h)
    partial_y = (f(np.array([x,y+h,z])) - f(np.array([x,y-h,z]))) / (2*h)
    partial_z = (f(np.array([x,y,z+h])) - f(np.array([x,y,z-h]))) / (2*h)
    return np.array([partial_x, partial_y, partial_z])


r = np.array([0.5, -1.2, -8])
h = 0.0001

gradient(f, r, h)





np.array([
    -2*r[0] * np.exp(-r[0]**2 - r[1]**4),
    -4*r[1]**3 * np.exp(-r[0]**2 - r[1]**4),
    0
])





def divergence(g, r, h):
    x,y,z = r
    partialx = (g(np.array([x+h,y,z]))[0] - g(np.array([x-h,y,z])))[0] / (2*h)
    partialy = (g(np.array([x,y+h,z]))[1] - g(np.array([x,y-h,z])))[1] / (2*h)
    partialz = (g(np.array([x,y,z+h]))[2] - g(np.array([x,y,z-h])))[2] / (2*h)
    return partialx+partialy+partialz


divergence(g,r,h)





2/np.linalg.norm(r)





def curl(g,r,h):
    x,y,z = r
    dgxdy = (g(np.array([x,y+h,z]))[0] - g(np.array([x,y-h,z]))[0]) / (2*h)
    dgxdz = (g(np.array([x,y,z+h]))[0] - g(np.array([x,y,z-h]))[0]) / (2*h)
    dgydx = (g(np.array([x+h,y,z]))[1] - g(np.array([x-h,y,z]))[1]) / (2*h)
    dgydz = (g(np.array([x,y,z+h]))[1] - g(np.array([x,y,z-h]))[1]) / (2*h)
    dgzdx = (g(np.array([x+h,y,z]))[2] - g(np.array([x-h,y,z]))[2]) / (2*h)
    dgzdy = (g(np.array([x,y+h,z]))[2] - g(np.array([x,y-h,z]))[2]) / (2*h)
    return np.array([dgzdy-dgydz, dgxdz-dgzdx, dgydx-dgxdy])


curl(g,r,h)



