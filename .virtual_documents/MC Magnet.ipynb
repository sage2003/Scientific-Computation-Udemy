


import numpy as np
import matplotlib.pyplot as plt 











length = 10
num = length**2

randphi = 2*np.pi*np.random.rand(num).reshape(length, length, 1)
randtheta = np.pi*np.random.rand(num).reshape(length, length, 1)


mag = np.array([np.cos(randphi)*np.sin(randtheta), np.sin(randphi)*np.sin(randtheta), np.cos(randtheta)])


#Check norm

np.sqrt(mag[0, :]**2 + mag[1, :]**2 + mag[2, :]**2)[5, 2, 0]





coords = np.array(np.meshgrid(np.arange(length), 
                             np.arange(length),
                             np.arange(1)))





# Change standard size of all figures in this notebook
plt.rcParams['figure.figsize'] = [40, 15]


arrowplot = plt.axes(projection='3d')
arrowplot.set_zlim(-1, 1)
arrowplot.set_box_aspect(aspect=(length, length, 2))

#make bg invisible
arrowplot.axis(False)

arrowplot.quiver(
    coords[0], coords[1], coords[2],
    mag[0], mag[1], mag[2]
)

#coordinate plot
arrowplot.scatter3D(coords[0], coords[1], coords[2], color="red")








J = 1


-0.5 * J * np.dot(mag[:, 5, 2, 0], mag[:, 6, 2, 0] + mag[:, 4, 2, 0] + mag[:, 5, 3, 0] + mag[:, 5, 1, 0])


-0.5 * J * np.dot(mag[:, (length-1)%length, 2, 0], mag[:, length%length, 2, 0] + mag[:, (length-2)%length, 2, 0] + mag[:, (length-1)%length, 3, 0] + mag[:, (length-1)%length, 1, 0])


def energyExchangeContribution(mag, x, y):
    return -0.5*J*np.dot(mag[:, x, y, 0], mag[:, (x+1)%length, y, 0] + mag[:, (x-1)%length, y, 0] + mag[:, x, (y+1)%length, 0] + mag[:, x, (y-1)%length, 0])

def energyExchange(mag):
    # mag: Array magnetic moment
    energy = 0
    for x in range(length):
        for y in range(length):
            energy = energy + energyExchangeContribution(mag, x, y)
    return energy


energyExchange(mag)





mu = 1
B = np.array([0.5, 0, 0])

def energyMagneticContribution(mag, x, y):
    return - mu * np.dot(B, mag[:, x, y, 0])


def energyMagnetic(mag):
    # mag: Array magnetic moment
    energy = 0
    for x in range(length):
        for y in range(length):
            energy = energy + energyMagneticContribution(mag, x, y)
    return energy














def stepExchange(mag):
    #1.
    x = np.random.randint(length)
    y = np.random.randint(length)
    energyold = 2 * energyExchangeContribution(mag, x, y)
    #2.
    randphi = 2*np.pi*np.random.rand()
    randtheta = np.pi*np.random.rand()
    # Issue with pointers: savemag = mag[:, x, y, 0]
    savemag = np.array(mag[:, x, y, 0])
    mag[:, x, y, 0] = np.array([np.cos(randphi)*np.sin(randtheta), np.sin(randphi)*np.sin(randtheta), np.cos(randtheta)])
    #3.
    energyNew = 2 * energyExchangeContribution(mag, x, y)
    #4.
    if (energyNew < energyold):
        # accept the change and update the energy
        energychange = energyNew - energyold
    else:
        # ecline & restore old moment
        mag[:, x, y, 0] = savemag
        energychange = 0
    return [mag, energychange]


stepExchange(mag)[1]





def stepExchangeT(mag, kBtemp):
    #1.
    x = np.random.randint(length)
    y = np.random.randint(length)
    energyold = 2 * energyExchangeContribution(mag, x, y)
    #2.
    randphi = 2*np.pi*np.random.rand()
    randtheta = np.pi*np.random.rand()
    # Issue with pointers: savemag = mag[:, x, y, 0]
    savemag = np.array(mag[:, x, y, 0])
    mag[:, x, y, 0] = np.array([np.cos(randphi)*np.sin(randtheta), np.sin(randphi)*np.sin(randtheta), np.cos(randtheta)])
    #3.
    energyNew = 2 * energyExchangeContribution(mag, x, y)
    #4.
    if (energyNew < energyold):
        # accept the change and update the energy
        energychange = energyNew - energyold
    else:
        if np.random.rand() < np.exp(-(energyNew - energyold)/kBtemp):
            #accept the change and update the energy
            energychange = energyNew - energyold
        else:
            # decline & restore old moment
            mag[:, x, y, 0] = savemag
            energychange = 0
    return [mag, energychange]





def stepT(mag, kBtemp):
    #1.
    x = np.random.randint(length)
    y = np.random.randint(length)
    energyold = 2 * energyExchangeContribution(mag, x, y) + energyMagneticContribution(mag, x, y)
    #2.
    randphi = 2*np.pi*np.random.rand()
    randtheta = np.pi*np.random.rand()
    # Issue with pointers: savemag = mag[:, x, y, 0]
    savemag = np.array(mag[:, x, y, 0])
    mag[:, x, y, 0] = np.array([np.cos(randphi)*np.sin(randtheta), np.sin(randphi)*np.sin(randtheta), np.cos(randtheta)])
    #3.
    energyNew = 2 * energyExchangeContribution(mag, x, y) + energyMagneticContribution(mag, x, y)
    #4.
    if (energyNew < energyold):
        # accept the change and update the energy
        energychange = energyNew - energyold
    else:
        if np.random.rand() < np.exp(-(energyNew - energyold)/kBtemp):
            #accept the change and update the energy
            energychange = energyNew - energyold
        else:
            # decline & restore old moment
            mag[:, x, y, 0] = savemag
            energychange = 0
    return [mag, energychange]











numberSteps = 1000000
#kBtemp = 0.01

#optional
energy = energyExchange(mag)
energyList = [energy]

for i in range(numberSteps):
    # mag, energychange = stepExchange(mag)             #initial version: zero temperature
    kBtemp = 0.2*(1-i/numberSteps)
    # mag, energychange  = stepExchangeT(mag, kBtemp)     #Update 1: Consider finite temperatures
    mag, energychange  = stepT(mag, kBtemp)       #Update 2: Add interaction with magnetic field
    #optional
    energy = energy + energychange
    energyList.append(energy)


plt.plot(range(numberSteps+1), energyList)


arrowplot = plt.axes(projection='3d')
arrowplot.set_zlim(-1, 1)
arrowplot.set_box_aspect(aspect=(length, length, 2))

#make bg invisible
arrowplot.axis(False)

arrowplot.quiver(
    coords[0], coords[1], coords[2],
    mag[0], mag[1], mag[2]
)

#coordinate plot
arrowplot.scatter3D(coords[0], coords[1], coords[2], color="red")



