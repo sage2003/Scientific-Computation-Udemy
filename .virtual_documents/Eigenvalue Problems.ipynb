


import numpy as np
from scipy import integrate
import matplotlib.pyplot as plt











k = 1
m = 1

def f_3osc(t, y):

    r = y[0:3]
    v = y[3:6]
    
    eq1 = (k/m) * (-r[0] - (r[0] - r[1]))
    eq2 = (k/m) * (-(r[1] - r[2]) - (r[1] - r[0]))
    eq3 = (k/m) * (-r[2] - (r[2] - r[1]))
    
    return [v[0], v[1], v[2], eq1, eq2, eq3]


#initial conditions and time

tStart = 0
tEnd = 100

a = 1

yStart = 0.3 * (2*np.random.rand(6)-1) * a

solution_3osc = integrate.solve_ivp(f_3osc, [tStart, tEnd], yStart, method="RK45", t_eval=np.linspace(tStart, tEnd, 1001))


plt.xlabel("Time t")
plt.ylabel("Coorindates")

plt.plot(solution_3osc.t, solution_3osc.y[0]+1*a, label="First oscillator")
plt.plot(solution_3osc.t, solution_3osc.y[1]+2*a, label="Second oscillator")
plt.plot(solution_3osc.t, solution_3osc.y[2]+3*a, label="Third oscillator")
plt.legend()




















A = np.array([[2,-1,0],[-1,2,-1],[0,-1,2]])

eig_val, eig_vec = np.linalg.eig(A)


eig_val


eig_vec








def det3(A):
    term1 = A[0,0] * (A[1,1]*A[2, 2] - A[1,2]*A[2,1])
    term2 = A[1,0] * (A[0,1]*A[2, 2] - A[0,2]*A[2,1])
    term3 = A[2,0] * (A[0,1]*A[1, 2] - A[1,2]*A[1,1])
    return term1 - term2 + term3





def characteristicPoly(x):
    return det3(A - x*np.eye(3))


def findRoot(f, n, xmin, xmax, startStep):
    # f: function
    # n: number of roots
    # [xmin, xmax]: range in which roots are expected to be
    # startStep: starting value for the step size
    x = xmin
    d = startStep
    signA = np.sign(f(x))
    signB = np.sign(f(x))
    root = []

    while len(root)<n:
        while d > 0.000001:
            # compare the sign of neighbouring points
            while signA-signB == 0:
                signA = signB
                x = x+d
                signB = np.sign(f(x))
            # decrease d whwnever the sign changes until desired accuracy is reached
            x = x-d
            signA = np.sign(f(x-d))
            signB = np.sign(f(x))
            d = d*0.1
        # store x in root
        root.append(x)
        # reset d
        d = startStep
        # go to next x and reset signs
        x = x+d
        signA = np.sign(f(x))
        signB = np.sign(f(x))
        
    return root 


findRoot(characteristicPoly, 3, 0, 4, 0.01)








np.linalg.eig(A)











def integralTrapezoidal(data):
    a = 0
    for i in range( len(data[0]) -1 ):
        a = a + ( data[1,i+1] + data[1,i] ) / 2 * (data[0,i+1] - data[0,i])
    return a


ft = np.array(
    [[[om,
    integralTrapezoidal(np.array([solution_3osc.t, 1/np.sqrt(2*np.pi) * solution_3osc.y[i] * np.exp(1j*om*solution_3osc.t)]))] for om in np.linspace(0, 3, 301)] for i in range(3)]
)


ft[0,:,0]


plt.plot(ft[0,:,0].real, abs(ft[0,:,1])**2)
plt.xlabel(r"Frequency $\omega$")
plt.ylabel("Intensity FT")
plt.show()

plt.plot(ft[1,:,0].real, abs(ft[1,:,1])**2)
plt.xlabel(r"Frequency $\omega$")
plt.ylabel("Intensity FT")
plt.show()

plt.plot(ft[2,:,0].real, abs(ft[2,:,1])**2)
plt.xlabel(r"Frequency $\omega$")
plt.ylabel("Intensity FT")
plt.show()





# analytical solutions to compare with the FT curves

omega1 = np.sqrt(k/m) * np.sqrt(2 + np.sqrt(2))
omega2 = np.sqrt(k/m) * np.sqrt(2)
omega3 = np.sqrt(k/m) * np.sqrt(2 - np.sqrt(2))

print(omega1)
print(omega2)
print(omega3)











def functionModel(t, a):
    return a[0]*np.cos(omega1*t+a[1]) + a[2]*np.cos(omega2*t+a[3]) + a[4]*np.cos(omega3*t+a[5])































































