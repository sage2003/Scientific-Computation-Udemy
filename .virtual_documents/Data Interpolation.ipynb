


import numpy as np
import matplotlib.pyplot as plt














def expTaylor (x, x0, nmax):
    #x : argument
    #x0 : argument at which the derivative will be calculated
    #nmax: n at which the series will terminate
    T = 0
    for i in range(nmax+1):
        T = T + np.exp(x0) * (x - x0)**i / np.math.factorial(i)
    return (T)


expTaylor(1, 2, 100) == np.exp(1)


x_list = np.linspace(-10, 10, 100)
y_list = np.exp(x_list)
plt.scatter(x_list, y_list, s=8, marker='o', label='Function')
plt.xlabel('x')
plt.ylabel(r'$e^{x}$')
plt.plot(x_list, expTaylor(x_list, 0, 100), 'black', lw=1, label='Expansion')
plt.legend()








def sinTaylor(x, nmax):
    t=0
    for n in range (nmax+1):
        t = t + (-1)**n * x**(2*n + 1) / np.math.factorial(2*n + 1)
    return t


x_list = np.linspace(-10, 10, 100)
y_list = np.sin(x_list)
plt.ylim([-2,2])
plt.scatter(x_list, y_list, s=8, marker='o', label='Function')
plt.xlabel('x')
plt.ylabel(r'$\sin x$')
plt.plot(x_list, sinTaylor(x_list, 3), 'blue', lw=1, label='Expansion (3 terms)')
plt.plot(x_list, sinTaylor(x_list, 6), 'green', lw=1, label='Expansion (6 terms)')
plt.plot(x_list, sinTaylor(x_list, 10), 'red', lw=1, label='Expansion (10 terms)')
plt.plot(x_list, sinTaylor(x_list, 80), 'magenta', lw=1, label='Expansion (80 terms)')
plt.legend()





np.sin(10.5)


sinTaylor(10.5, 80)








def derivative(f, x, h):
    #f: function
    #x: argument of f
    #h: step-size
    return (f(x+h)-f(x))/h


def func(x):
    return 2*np.sin(x)**2 + x


x0 = 10.5
func(10.5)


derivative(func, x0, 0.01)





def nDerivative(f, x, h, n):
    #f: function
    #x: argument of f
    #h: step-size
    #n: order of the derivative
    t = 0
    for k in range (0, n+1):
        t = t + (-1)**(k+n) * np.math.factorial(n) / (np.math.factorial(k) * np.math.factorial(n-k)) * f(x + k*h)
    return t / h**n


nDerivative(func, 10.5, 0.01, 0)


nDerivative(func, 10.5, 0.01, 1)


nDerivative(func, 10.5, 0.01, 10)


def taylor(f, x, x0, nmax, h):
    #f : function
     #x : argument
    #x0 : argument at which the derivative will be calculated
    #nmax: n at which the series will terminate
    #h : step-size
    t = 0
    for n in range (nmax+1):
        t = t + nDerivative(f, x0, h, n) * (x-x0)**n / np.math.factorial(n)
    return t


x_list = np.linspace(-10, 10, 100)
y_list = func(x_list)

plt.ylim([-5,8])
plt.xlim([-7.5, 7.5])

plt.scatter(x_list, y_list, s=8, marker='o', label='Function')

plt.xlabel('x')
plt.ylabel(r'$f(x)$')

nmax = 15
h = 0.05

plt.plot(x_list, taylor(func, x_list, 0, nmax, h), 'blue')
plt.plot(x_list, taylor(func, x_list, 2, nmax, h), 'red')
plt.plot(x_list, taylor(func, x_list, -3, nmax, h), 'green')
plt.legend()


def func(x):
    return 2*np.sin(x)**2 * np.exp(-0.1*x**2)

x_list = np.linspace(-10, 10, 100)
y_list = func(x_list)

plt.ylim([-2,3])
plt.xlim([-7.5, 7.5])

plt.scatter(x_list, y_list, s=8, marker='o', label='Function')

plt.xlabel('x')
plt.ylabel(r'$f(x)$')

nmax = 15
h = 0.05

plt.plot(x_list, taylor(func, x_list, 0, nmax, h), 'blue')
plt.plot(x_list, taylor(func, x_list, 2, nmax, h), 'red')
plt.plot(x_list, taylor(func, x_list, -3, nmax, h), 'green')
plt.legend()








def correctFunction(x):
    return 15 + 2.4*x - 0.5*x**2 - 0.35*x**3


npoints = 21
x_list = np.linspace(-5,5,npoints)
data0 = np.array([x_list, correctFunction(x_list)])


plt.xlabel('x')
plt.ylabel('y')

plt.scatter(data0[0], data0[1])





0.1 * (2*np.random.rand(npoints)-1) #generating noise in the range -0.1 to +0.1


data = np.array([data0[0] + 0.25 * (2*np.random.rand(npoints)-1), data0[1] + 5.0 * (2*np.random.rand(npoints)-1)])


plt.xlabel('x')
plt.ylabel('y')

plt.plot(data0[0], data0[1], 'black', label='Function')
plt.scatter(data[0], data[1], label='Function with added noise')
plt.legend()











plt.xlabel('x')
plt.ylabel('y')

plt.scatter(data0[0], data0[1])


from scipy import interpolate





splineLinear0 = interpolate.interp1d(data0[0], data0[1], kind='linear')


plt.xlabel('x')
plt.ylabel('y')

plt.scatter(data0[0], data0[1])
plt.plot(data0[0], splineLinear0(data0[0]))





plt.xlabel('x')
plt.ylabel('y')

plt.xlim([2,4])
plt.ylim([-5,15])

x_list = np.linspace(2, 4, 201)

#plt.scatter(x_list, splineLinear0(x_list))
plt.scatter(data0[0], data0[1])
plt.plot(x_list, splineLinear0(x_list))





splineCubic0 = interpolate.interp1d(data0[0], data0[1], kind='cubic')

plt.xlabel('x')
plt.ylabel('y')

plt.scatter(data0[0], data0[1])
plt.plot(data0[0], splineCubic0(data0[0]))


plt.xlabel('x')
plt.ylabel('y')

plt.xlim([2,4])
plt.ylim([-5,15])

x_list = np.linspace(2, 4, 201)

plt.scatter(data0[0], data0[1])
plt.plot(x_list, splineCubic0(x_list))





splineCubic = interpolate.interp1d(data[0], data[1], kind='cubic')

plt.xlabel('x')
plt.ylabel('y')

x_list = np.linspace(-4.5, 4.5, 1000)

plt.plot(data0[0], data0[1],'blue') 
plt.scatter(data[0], data[1], color='black')
plt.plot(x_list, splineCubic(x_list), 'orange')
plt.title("These data points are overfitted!")





splineSmooth = interpolate.UnivariateSpline(data[0], data[1])
splineSmooth.set_smoothing_factor(500)





plt.xlabel('x')
plt.ylabel('y')

x_list = np.linspace(-4.972576760088026, 4.758882717052485, 1000)

plt.scatter(data[0], data[1], color='black')
plt.plot(x_list, splineSmooth(x_list), 'orange')
plt.title("These data points are fitted and can explain the physics behind the phenomena much better.")





datapoly = data[:,7:14]


datapoly





x = np.array([datapoly[0,:]**0, datapoly[0,:]**1, datapoly[0,:]**2, datapoly[0,:]**3, datapoly[0,:]**4, datapoly[0,:]**5, datapoly[0,:]**6]).T #the matrix of numbers


y = datapoly[1,:]





a = np.linalg.solve(x,y)


a


plt.xlabel('x')
plt.ylabel('y')
plt.ylim([-20,30]) #try plotting without this line of code

x_list = np.linspace(-2.5, 2.5, 901)
y_list = a[0]*x_list**0 + a[1]*x_list**1 + a[2]*x_list**2 + a[3]*x_list**3 + a[4]*x_list**4 + a[5]*x_list**5 + a[6]*x_list**6
plt.scatter(datapoly[0], datapoly[1])
plt.plot(x_list, y_list)














def polynomialModel(x, a):
    t = 0
    for k in range (len(a)):
        t = t + a[k] * x**k
    return t


a0 = np.array([15, 2.4, -0.5, -0.35]) #actual coefficients
#a0 = np.array([1, 1, 1, 1]) #initial guess when model function is not known beforehand 


plt.xlabel('x')
plt.ylabel('y')

x_list = np.linspace(-5, 5, npoints)
plt.plot(x_list, polynomialModel(x_list, a0), 'black')
plt.title('The Model Polynomial Works!') #yields the same output as the original function defined wayyyy above








def errFunc(f, coefficients, data):
    #f: the fit function
    #coefficients: a_i that we're trying to optimize
    #data: the datawe try to fit
    error = 0
    for i in range(len(data[0])):
        error = error + (data[1,i] - f(data[0,i], coefficients))**2
        #print(error)
    return error


errFunc(polynomialModel, a0, data)








def errorFitGradient(f, coefficients, data):
    #f: the fit function
    #coefficients: a_i that we're trying to optimize
    #data: the datawe try to fit
    return np.array([-2 * np.sum(np.array([(data[1,i] - f(data[0,i], coefficients)) * data[0,i]**k for i in range(len(data[0]))])) for k in range(len(coefficients))])


errorFitGradient(polynomialModel, a0, data) #these are probably the smallest gradients that we'll encounter as these are the errors generated for the correct parameters





iterations = 100000
h = 0.00001 #step width
a = 2*np.random.rand(4)-1


a # a random vector with 4 random numbers in the range -1 to 1


for i in range (iterations):
    a = a - h*errorFitGradient(polynomialModel, a, data)


a


plt.xlabel('x')
plt.ylabel('y')

x_list = np.linspace(-5, 5, npoints)
plt.plot(x_list, polynomialModel(x_list, a), 'black', label='Using fitted parameters')
plt.plot(x_list, polynomialModel(x_list, a0), 'orange', label='Original Function')
plt.scatter(data[0], data[1])
plt.legend()
plt.title("Fits pretty well!")


print(errFunc(polynomialModel, a, data))
print(errFunc(polynomialModel, a0, data)) 
#new function with fitted parameters has even less error than the original function we started out with





print(a)
print(a0)



