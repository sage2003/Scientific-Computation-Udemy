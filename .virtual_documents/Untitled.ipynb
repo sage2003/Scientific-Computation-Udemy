import matplotlib.pyplot as plt
import numpy as np


h = 1
m = 1


a = 1
V = 0


psi = 0
dpsi = 1
x = 0
dx = a*0.001

xlist = []
psilist = []

E = 19.9

while(abs(psi)>0.001):
    psi = 0
    dpsi = 1
    x = 0
    E = E + dE
    xlist = []
    psilist = []

    while(x<=a):
        ddpsi = 2*m/h**2*(V-E)*psi
        dpsi = dpsi + ddpsi * dx
        psi = psi + dpsi * dx
        x = x + dx
        xlist.append(x)
        psilist.append(psi)
plt.plot(xlist, psilist)



