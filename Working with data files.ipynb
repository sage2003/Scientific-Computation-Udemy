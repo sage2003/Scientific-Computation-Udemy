{
 "cells": [
  {
   "cell_type": "markdown",
   "id": "fdc9eea7-3551-445a-ae47-9e63fa0b48f1",
   "metadata": {},
   "source": [
    "# Working with data files"
   ]
  },
  {
   "cell_type": "code",
   "execution_count": 1,
   "id": "f6ca6b11-d7bc-418c-9ed5-884cffbe92c0",
   "metadata": {},
   "outputs": [],
   "source": [
    "storelist = [1, 2, 3, 4, 5, 6, 7, 8, 9, 10] # initialising a dummy list"
   ]
  },
  {
   "cell_type": "code",
   "execution_count": 2,
   "id": "2b9b9d4e-40ff-4b54-b91b-7a9c44ab48e6",
   "metadata": {},
   "outputs": [],
   "source": [
    "import numpy as np #importing necessary libraries"
   ]
  },
  {
   "cell_type": "markdown",
   "id": "b01fd5d7-03ba-4622-a2b1-ab2be10226e3",
   "metadata": {},
   "source": [
    "## Storing data into files"
   ]
  },
  {
   "cell_type": "code",
   "execution_count": 6,
   "id": "748dcbea-5398-42b9-a4ef-f69ee452359a",
   "metadata": {},
   "outputs": [],
   "source": [
    "np.savetxt('storelist1.dat', storelist, fmt=\"%s\") #fmt means format, which we havve set here  to be string"
   ]
  },
  {
   "cell_type": "code",
   "execution_count": 7,
   "id": "60b50b90-a16c-4b90-94e5-f2b53144ab70",
   "metadata": {},
   "outputs": [],
   "source": [
    "np.savetxt('storelist2.dat', storelist) #storing without specifying format (open the files and see the diference)"
   ]
  },
  {
   "cell_type": "markdown",
   "id": "87b45c99-1c5e-4c8e-90c4-104236a96c43",
   "metadata": {},
   "source": [
    "## Writing data line by line"
   ]
  },
  {
   "cell_type": "code",
   "execution_count": 12,
   "id": "16d3889f-d966-459a-9092-70fa920490d6",
   "metadata": {},
   "outputs": [],
   "source": [
    "file = open('storelist3.dat', 'w') # w means 'write'. it allows to write into the file\n",
    "\n",
    "for i in storelist:\n",
    "    file.write(str(i**2)) #only string data can be written into a file\n",
    "    file.write(\"\\n\")\n",
    "\n",
    "file.close()"
   ]
  },
  {
   "cell_type": "markdown",
   "id": "8f34e630-4eb9-4186-8ca1-3344c7e7d95a",
   "metadata": {},
   "source": [
    "## Working with the `with` command"
   ]
  },
  {
   "cell_type": "code",
   "execution_count": 14,
   "id": "edf4aa08-1f6a-4499-a395-509eef1e349a",
   "metadata": {},
   "outputs": [],
   "source": [
    "with open('storelist4.dat', 'w') as file:\n",
    "    for i in storelist:\n",
    "        file.write(str(i**2))\n",
    "        file.write(\"\\n\")\n",
    "\n",
    "#there's no need to close the file while using the 'with' command as the file is open only as long as the 'with' block is running"
   ]
  },
  {
   "cell_type": "markdown",
   "id": "01aa0bf0-4258-4104-9c25-c8d0d4b56966",
   "metadata": {},
   "source": [
    "## Loading Files"
   ]
  },
  {
   "cell_type": "code",
   "execution_count": 15,
   "id": "4bcdb6e4-b786-4360-8de8-438a03f9b127",
   "metadata": {},
   "outputs": [],
   "source": [
    "loadlist = np.loadtxt('storelist1.dat')"
   ]
  },
  {
   "cell_type": "code",
   "execution_count": 16,
   "id": "6b854468-bfdd-4b87-bf0c-2d56af05b77d",
   "metadata": {},
   "outputs": [
    {
     "data": {
      "text/plain": [
       "array([ 1.,  2.,  3.,  4.,  5.,  6.,  7.,  8.,  9., 10.])"
      ]
     },
     "execution_count": 16,
     "metadata": {},
     "output_type": "execute_result"
    }
   ],
   "source": [
    "loadlist"
   ]
  },
  {
   "cell_type": "code",
   "execution_count": null,
   "id": "1edf479e-4b3a-4181-b613-106bd7fc234f",
   "metadata": {},
   "outputs": [],
   "source": []
  }
 ],
 "metadata": {
  "kernelspec": {
   "display_name": "Python 3 (ipykernel)",
   "language": "python",
   "name": "python3"
  },
  "language_info": {
   "codemirror_mode": {
    "name": "ipython",
    "version": 3
   },
   "file_extension": ".py",
   "mimetype": "text/x-python",
   "name": "python",
   "nbconvert_exporter": "python",
   "pygments_lexer": "ipython3",
   "version": "3.10.12"
  }
 },
 "nbformat": 4,
 "nbformat_minor": 5
}
