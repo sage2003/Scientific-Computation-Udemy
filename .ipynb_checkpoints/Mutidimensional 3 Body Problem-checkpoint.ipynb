{
 "cells": [
  {
   "cell_type": "markdown",
   "id": "c6805951",
   "metadata": {},
   "source": [
    "# Multidimensional differential equations\n",
    "\n",
    "- Börge Göbel "
   ]
  },
  {
   "cell_type": "code",
   "execution_count": 6,
   "id": "921259c3",
   "metadata": {},
   "outputs": [],
   "source": [
    "import numpy as np\n",
    "import matplotlib.pyplot as plt \n",
    "from scipy import integrate"
   ]
  },
  {
   "cell_type": "markdown",
   "id": "29eb17ec",
   "metadata": {},
   "source": [
    "# 3-body problem"
   ]
  },
  {
   "cell_type": "code",
   "execution_count": 7,
   "id": "eb2d6604",
   "metadata": {},
   "outputs": [],
   "source": [
    "# Constants in SI units\n",
    "\n",
    "# Gravitational constant\n",
    "G = 6.67430*10**(-11) # m^3 / ( kg * s^2 )\n",
    "\n",
    "# Masses\n",
    "msun = 1.9884 * 10**30 # kg\n",
    "mearth = 5.9723 * 10**24 # kg\n",
    "mmoon = 7.349 * 10**22 # kg\n",
    "\n",
    "# Distances (average)\n",
    "rSunEarth = 1.4960 * 10**11 # m\n",
    "rEarthMoon = 3.850 * 10**8 # m\n",
    "\n",
    "# Velocities (average)\n",
    "vEarth = 29780 # m/s (Trajectory around sun)\n",
    "vMoon = 1022 # m/s (Trajectory around earth)"
   ]
  },
  {
   "cell_type": "markdown",
   "id": "fd46d2f2",
   "metadata": {},
   "source": [
    "## A) Sun, Earth & Moon"
   ]
  },
  {
   "cell_type": "markdown",
   "id": "b461fb52",
   "metadata": {},
   "source": [
    "Variables for each of the 3 bodies: \\\\(x, y, z, v_x, v_y, v_z\\\\)\n",
    "\n",
    "Force: Newton's law of gravitation \n",
    "\n",
    "\\\\( \\vec{F} =G\\frac{m_1m_2}{|\\vec{r}_0-\\vec{r}|^3}(\\vec{r}_0-\\vec{r}) = -G\\frac{m_1m_2}{r^2}\\vec{e}_r\\\\) for \\\\( \\vec{r}_0=0\\\\)\n",
    "\n",
    "For the three bodies\n",
    "\n",
    "$$ m_1\\ddot{\\vec{r}_1}=\n",
    "G\\frac{m_1m_2}{|\\vec{r}_2-\\vec{r}_1|^3}(\\vec{r}_2-\\vec{r}_1) + G\\frac{m_1m_3}{|\\vec{r}_3-\\vec{r}_1|^3}(\\vec{r}_3-\\vec{r}_1)$$\n",
    "$$m_2\\ddot{\\vec{r}_2}=\n",
    "G\\frac{m_2m_1}{|\\vec{r}_1-\\vec{r}_2|^3}(\\vec{r}_1-\\vec{r}_2) + G\\frac{m_2m_3}{|\\vec{r}_3-\\vec{r}_2|^3}(\\vec{r}_3-\\vec{r}_2)$$\n",
    "$$m_3\\ddot{\\vec{r}_3}=\n",
    "G\\frac{m_3m_1}{|\\vec{r}_1-\\vec{r}_3|^3}(\\vec{r}_1-\\vec{r}_3) + G\\frac{m_3m_2}{|\\vec{r}_2-\\vec{r}_3|^3}(\\vec{r}_2-\\vec{r}_3)$$\n",
    "\n",
    "We have the solve the following differential equations\n",
    "\n",
    "$$ \\ddot{\\vec{r}_1}=\n",
    "-G\\left(\\frac{m_2}{|\\vec{r}_2-\\vec{r}_1|^3}+\\frac{m_3}{|\\vec{r}_3-\\vec{r}_1|^3}\\right)\\vec{r}_1 + G\\frac{m_2}{|\\vec{r}_2-\\vec{r}_1|^3}\\vec{r}_2 + G\\frac{m_3}{|\\vec{r}_3-\\vec{r}_1|^3}\\vec{r}_3$$\n",
    "$$\\ddot{\\vec{r}_2}=\n",
    "G\\frac{m_1}{|\\vec{r}_1-\\vec{r}_2|^3}\\vec{r}_1 -G\\left(\\frac{m_1}{|\\vec{r}_1-\\vec{r}_2|^3}+\\frac{m_3}{|\\vec{r}_3-\\vec{r}_2|^3}\\right)\\vec{r}_2 + G\\frac{m_3}{|\\vec{r}_3-\\vec{r}_2|^3}\\vec{r}_3$$\n",
    "$$\\ddot{\\vec{r}_3}=\n",
    "G\\frac{m_1}{|\\vec{r}_1-\\vec{r}_3|^3}\\vec{r}_1 + G\\frac{m_2}{|\\vec{r}_2-\\vec{r}_3|^3}\\vec{r}_2 -G\\left(\\frac{m_1}{|\\vec{r}_1-\\vec{r}_3|^3}+\\frac{m_2}{|\\vec{r}_2-\\vec{r}_3|^3}\\right)\\vec{r}_3$$"
   ]
  },
  {
   "cell_type": "code",
   "execution_count": 14,
   "id": "6d61fc1d",
   "metadata": {},
   "outputs": [],
   "source": [
    "m1 = msun\n",
    "m2 = mearth\n",
    "m3 = mmoon\n",
    "\n",
    "def f_ODE(t, r):\n",
    "    r1 = r[0:3]\n",
    "    r2 = r[3:6]\n",
    "    r3 = r[6:9]\n",
    "    #v1 = r[9:12]\n",
    "    r12 = np.linalg.norm(r1-r2)\n",
    "    r23 = np.linalg.norm(r2-r3)\n",
    "    r31 = np.linalg.norm(r1-r3)\n",
    "    eq_r = G * np.array([\n",
    "        -( m2/r12**3 + m3/r31**3 ) * r1 + m2/r12**3 * r2 + m3/r31**3 * r3,\n",
    "        m1/r12**3 * r1 - (m1/r12**3 + m3/r23**3) * r2 + m3/r23**3 * r3,\n",
    "        m1/r31**3 * r1 + m2/r23**3 * r2 - (m1/r31**3 + m2/r23**3) * r3\n",
    "    ])\n",
    "    return np.concatenate([r[9:18], eq_r.flatten()])"
   ]
  },
  {
   "cell_type": "code",
   "execution_count": 15,
   "id": "0e2f0480-299a-4bfe-ab8a-211a1aa9594b",
   "metadata": {},
   "outputs": [],
   "source": [
    "#sun\n",
    "r1start = np.array([0,0,0])\n",
    "v1start = np.array([0,0,0])\n",
    "\n",
    "#earth \n",
    "r2start = np.array([rSunEarth,0,0])\n",
    "v2start = np.array([0,vEarth,0])\n",
    "\n",
    "#moon\n",
    "r3start = np.array([rSunEarth,rEarthMoon,0])\n",
    "v3start = np.array([-vMoon,vEarth,0])\n",
    "\n",
    "r0 = np.concatenate([r1start, r2start, r3start, v1start, v2start, v3start])"
   ]
  },
  {
   "cell_type": "code",
   "execution_count": 16,
   "id": "8e0bea5b-235c-43ba-8b4c-de496f1ae247",
   "metadata": {},
   "outputs": [
    {
     "data": {
      "text/plain": [
       "array([ 0.00000000e+00,  0.00000000e+00,  0.00000000e+00,  0.00000000e+00,\n",
       "        2.97800000e+04,  0.00000000e+00, -1.02200000e+03,  2.97800000e+04,\n",
       "        0.00000000e+00,  1.80299923e-08,  5.64021430e-13,  0.00000000e+00,\n",
       "       -5.92988527e-03,  3.30911997e-05,  0.00000000e+00, -5.92982636e-03,\n",
       "       -2.70447778e-03,  0.00000000e+00])"
      ]
     },
     "execution_count": 16,
     "metadata": {},
     "output_type": "execute_result"
    }
   ],
   "source": [
    "f_ODE(0, r0)"
   ]
  },
  {
   "cell_type": "markdown",
   "id": "dd22d0b9",
   "metadata": {},
   "source": [
    "### Sun"
   ]
  },
  {
   "cell_type": "code",
   "execution_count": null,
   "id": "ec73dcfb",
   "metadata": {},
   "outputs": [],
   "source": []
  },
  {
   "cell_type": "markdown",
   "id": "e2c8d852",
   "metadata": {},
   "source": [
    "### Earth"
   ]
  },
  {
   "cell_type": "code",
   "execution_count": null,
   "id": "0cbda8e7",
   "metadata": {},
   "outputs": [],
   "source": []
  },
  {
   "cell_type": "markdown",
   "id": "5625ab12",
   "metadata": {},
   "source": [
    "### Moon"
   ]
  },
  {
   "cell_type": "markdown",
   "id": "a8212f5c",
   "metadata": {},
   "source": [
    "### Moon orbit around earth"
   ]
  },
  {
   "cell_type": "code",
   "execution_count": null,
   "id": "846c8b99",
   "metadata": {},
   "outputs": [],
   "source": []
  },
  {
   "cell_type": "markdown",
   "id": "2ebde7b4",
   "metadata": {},
   "source": [
    "### Exaggerate moon orbit radius"
   ]
  },
  {
   "cell_type": "code",
   "execution_count": null,
   "id": "825f08c0",
   "metadata": {},
   "outputs": [],
   "source": []
  },
  {
   "cell_type": "markdown",
   "id": "f729b6b5",
   "metadata": {},
   "source": [
    "## B) Add a fourth body: Spaceship"
   ]
  },
  {
   "cell_type": "markdown",
   "id": "b47fdbf3",
   "metadata": {},
   "source": [
    "Since the mass of the spaceship is so small compared to the other masses, we will disregard the effect on sun, earth and moon. \n",
    "The 3 differential equation remain. \n",
    "\n",
    "The following equation describes the spaceship\n",
    "\n",
    "\\\\(\n",
    "m_4\\ddot{\\vec{r}_4}=\n",
    "G\\frac{m_4m_1}{|\\vec{r}_1-\\vec{r}_4|^3}(\\vec{r}_1-\\vec{r}_4) + \n",
    "G\\frac{m_4m_2}{|\\vec{r}_2-\\vec{r}_4|^3}(\\vec{r}_2-\\vec{r}_4) + \n",
    "G\\frac{m_4m_3}{|\\vec{r}_3-\\vec{r}_4|^3}(\\vec{r}_3-\\vec{r}_4)\n",
    "\\\\)\n",
    "\n",
    "We add to our systems of differential equations:\n",
    "\n",
    "\\\\(\n",
    "\\ddot{\\vec{r}_4}=\n",
    "G\\frac{m_1}{|\\vec{r}_1-\\vec{r}_4|^3}\\vec{r}_1 + G\\frac{m_2}{|\\vec{r}_2-\\vec{r}_4|^3}\\vec{r}_2+ G\\frac{m_3}{|\\vec{r}_3-\\vec{r}_4|^3}\\vec{r}_3 -G\\left(\\frac{m_1}{|\\vec{r}_1-\\vec{r}_4|^3}+\\frac{m_2}{|\\vec{r}_2-\\vec{r}_4|^3}+\\frac{m_3}{|\\vec{r}_3-\\vec{r}_4|^3}\\right)\\vec{r}_4\n",
    "\\\\)"
   ]
  },
  {
   "cell_type": "code",
   "execution_count": null,
   "id": "90c9056f",
   "metadata": {},
   "outputs": [],
   "source": []
  },
  {
   "cell_type": "markdown",
   "id": "716a2393",
   "metadata": {},
   "source": [
    "## Analyze trajectory with respect to earth and moon"
   ]
  },
  {
   "cell_type": "code",
   "execution_count": null,
   "id": "99a7271f",
   "metadata": {},
   "outputs": [],
   "source": []
  },
  {
   "cell_type": "markdown",
   "id": "f216edb7",
   "metadata": {},
   "source": [
    "### a) Elliptical orbit"
   ]
  },
  {
   "cell_type": "code",
   "execution_count": null,
   "id": "a74b5d75",
   "metadata": {},
   "outputs": [],
   "source": []
  },
  {
   "cell_type": "markdown",
   "id": "a2f9abf9",
   "metadata": {},
   "source": [
    "### b) Direct earth escape"
   ]
  },
  {
   "cell_type": "code",
   "execution_count": null,
   "id": "c94f001a",
   "metadata": {},
   "outputs": [],
   "source": []
  },
  {
   "cell_type": "markdown",
   "id": "bdadf27f",
   "metadata": {},
   "source": [
    "### c) Earth espace via moon encounter"
   ]
  },
  {
   "cell_type": "code",
   "execution_count": null,
   "id": "09b58f60",
   "metadata": {},
   "outputs": [],
   "source": []
  },
  {
   "cell_type": "markdown",
   "id": "e6a0fe1c",
   "metadata": {},
   "source": [
    "### d) Moon orbit"
   ]
  },
  {
   "cell_type": "markdown",
   "id": "7d05d6cf",
   "metadata": {},
   "source": [
    "We have already achieved a trajectory that aproached the moon. In order to reach a stable orbit, we must decrease the relative velocity of the spaceship once it is close to the moon. We will temporarily apply a force that breaks the spaceship relative to the moon.\n",
    "\n",
    "The fourth differential equation changes to\n",
    "\n",
    "\\\\(\n",
    "\\ddot{\\vec{r}_4}=\n",
    "G\\frac{m_1}{|\\vec{r}_1-\\vec{r}_4|^3}\\vec{r}_1 + G\\frac{m_2}{|\\vec{r}_2-\\vec{r}_4|^3}\\vec{r}_2+ G\\frac{m_3}{|\\vec{r}_3-\\vec{r}_4|^3}\\vec{r}_3 -G\\left(\\frac{m_1}{|\\vec{r}_1-\\vec{r}_4|^3}+\\frac{m_2}{|\\vec{r}_2-\\vec{r}_4|^3}+\\frac{m_3}{|\\vec{r}_3-\\vec{r}_4|^3}\\right)\\vec{r}_4 - \\frac{F(t)}{m_4}\\vec{e_{v_\\mathrm{rel}}}\n",
    "\\\\)\n",
    "\n",
    "with \n",
    "\n",
    "\\\\(\n",
    "\\vec{e_{v_\\mathrm{rel}}}=\\frac{\\dot{\\vec{r}}_4-\\dot{\\vec{r}}_3}{\\left|\\dot{\\vec{r}}_4-\\dot{\\vec{r}}_3\\right|}\n",
    "\\\\)"
   ]
  },
  {
   "cell_type": "code",
   "execution_count": null,
   "id": "5d8d0d24",
   "metadata": {},
   "outputs": [],
   "source": []
  }
 ],
 "metadata": {
  "kernelspec": {
   "display_name": "Python 3 (ipykernel)",
   "language": "python",
   "name": "python3"
  },
  "language_info": {
   "codemirror_mode": {
    "name": "ipython",
    "version": 3
   },
   "file_extension": ".py",
   "mimetype": "text/x-python",
   "name": "python",
   "nbconvert_exporter": "python",
   "pygments_lexer": "ipython3",
   "version": "3.11.6"
  }
 },
 "nbformat": 4,
 "nbformat_minor": 5
}
